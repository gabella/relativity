{
 "cells": [
  {
   "cell_type": "markdown",
   "metadata": {},
   "source": [
    "# The Pole-Barn Paradox\n",
    "See http://hyperphysics.phy-astr.gsu.edu/hbase/Relativ/polebarn.html#c1 <br>\n",
    "As usually stated (?), you close up a long pole in a shorter barn by boosting the pole to beta = lots.  Following the above example, the pole is 20 m long, and the barn is 10 m long with a front and back door.  So in the S-frame where the barn is at rest, the pole looks short and we can close it up in the barn.  *BUT,* in the Pole-frame (S'), the barn is short and there is now way to \"trap the pole inside.\""
   ]
  },
  {
   "cell_type": "markdown",
   "metadata": {},
   "source": [
    "## Let t=t'=0 when the front of the pole almost touches the front of the barn\n",
    "Pick beta=0.9 for the pole, moving from left to right in the S-frame.  So the Barn moves right-left in the S'-frame.  Use the LLF() class to handle the Lorentz transformations."
   ]
  },
  {
   "cell_type": "code",
   "execution_count": 1,
   "metadata": {},
   "outputs": [],
   "source": [
    "import numpy as np\n",
    "import matplotlib.pyplot as plt\n",
    "%matplotlib notebook\n",
    "import LLFTransforms as LLFT  # For the LLF() class especially, also has LorShape to handle sets of points."
   ]
  },
  {
   "cell_type": "code",
   "execution_count": 2,
   "metadata": {},
   "outputs": [],
   "source": [
    "beta = 0.9\n",
    "lpole = 20.0\n",
    "lbarn = 10.0\n",
    "aLLF = LLFT.LLF(beta, 2)  # Work in just (t',x') and (t,x) space, 2 dimensional.\n",
    "bLLF = LLFT.LLF(-beta, 2)"
   ]
  },
  {
   "cell_type": "code",
   "execution_count": 3,
   "metadata": {},
   "outputs": [],
   "source": [
    "# S' pole shape\n",
    "poleSP = np.array( [ [0.0, -lpole], [0.0, 0.0] ] )  # Pole (t', x') in S'-frame.\n",
    "mp = np.array( [ [1.0, 0.0] for uu in poleSP ] )\n",
    "barnS = np.array( [ [ 0.0, 0.0], [0.0, lbarn]] )    # Barn (t, x) collection in S-frame\n",
    "m = np.array( [ [1.0, 0.0] for uu in barnS ] )                      \n",
    "                      \n",
    "pole = LLFT.LorShape(beta, 2, poleSP, mp)\n",
    "barn = LLFT.LorShape(-beta, 2, barnS, m)"
   ]
  },
  {
   "cell_type": "code",
   "execution_count": 4,
   "metadata": {},
   "outputs": [
    {
     "data": {
      "image/png": "[encoded data removed]",
      "text/plain": [
       "<Figure size 720x576 with 1 Axes>"
      ]
     },
     "metadata": {},
     "output_type": "display_data"
    }
   ],
   "source": [
    "# Find the pole moving in S'-frame.\n",
    "ttp = np.linspace(-1, 20, 22, endpoint=True)\n",
    "\n",
    "fig, ax = plt.subplots( figsize = (10,8) )\n",
    "\n",
    "for attp in ttp:\n",
    "    aa = pole.shapeXPAtTP(attp)\n",
    "    \n",
    "    bb = aa.transpose()\n",
    "    yy = bb[0]\n",
    "    xx = bb[1]\n",
    "    \n",
    "    ax.plot(xx, yy, 'b-', lw=4)\n",
    "\n",
    "ax.set_xlabel(\"X'\")\n",
    "ax.set_ylabel(\"T'\")\n",
    "ax.set_title('Pole in S\\'-frame')\n",
    "ax.grid(True)\n",
    "plt.show()"
   ]
  },
  {
   "cell_type": "code",
   "execution_count": 5,
   "metadata": {},
   "outputs": [
    {
     "data": {
      "image/png": "[encoded data removed]",
      "text/plain": [
       "<Figure size 720x576 with 1 Axes>"
      ]
     },
     "metadata": {},
     "output_type": "display_data"
    }
   ],
   "source": [
    "# Find the pole moving in S-frame.\n",
    "tt = np.linspace(-1, 20, 22, endpoint=True)\n",
    "\n",
    "fig, ax = plt.subplots( figsize = (10,8) )\n",
    "\n",
    "for att in tt:\n",
    "    aa = pole.shapeXAtT(att)\n",
    "    \n",
    "    bb = aa.transpose()\n",
    "    yy = bb[0]\n",
    "    xx = bb[1]\n",
    "    \n",
    "    ax.plot(xx, yy, 'b-', lw=4)\n",
    "\n",
    "ax.set_xlabel(\"X\")\n",
    "ax.set_ylabel(\"T\")\n",
    "ax.set_title('Pole in S-frame')\n",
    "ax.grid(True)\n",
    "plt.show()"
   ]
  },
  {
   "cell_type": "code",
   "execution_count": null,
   "metadata": {},
   "outputs": [],
   "source": []
  },
  {
   "cell_type": "code",
   "execution_count": null,
   "metadata": {},
   "outputs": [],
   "source": []
  }
 ],
 "metadata": {
  "kernelspec": {
   "display_name": "Python 3",
   "language": "python",
   "name": "python3"
  },
  "language_info": {
   "codemirror_mode": {
    "name": "ipython",
    "version": 3
   },
   "file_extension": ".py",
   "mimetype": "text/x-python",
   "name": "python",
   "nbconvert_exporter": "python",
   "pygments_lexer": "ipython3",
   "version": "3.7.1"
  }
 },
 "nbformat": 4,
 "nbformat_minor": 2
}
