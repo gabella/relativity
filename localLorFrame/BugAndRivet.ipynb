{
 "cells": [
  {
   "cell_type": "markdown",
   "metadata": {},
   "source": [
    "# The Bug and Rivet Paradox in Special Relativity\n",
    "Check out http://hyperphysics.phy-astr.gsu.edu/hbase/Relativ/bugrivet.html ."
   ]
  },
  {
   "cell_type": "markdown",
   "metadata": {},
   "source": [
    "# XY shapes in Loentz Frames"
   ]
  },
  {
   "cell_type": "code",
   "execution_count": 1,
   "metadata": {},
   "outputs": [],
   "source": [
    "import numpy as np\n",
    "import matplotlib.pyplot as plt\n",
    "%matplotlib notebook\n",
    "import pandas as pd # For keeping track of all the t, x, y, z, etc coordinates and t' , x', y', z' ."
   ]
  },
  {
   "cell_type": "markdown",
   "metadata": {},
   "source": [
    "## Some useful functions"
   ]
  },
  {
   "cell_type": "code",
   "execution_count": 2,
   "metadata": {},
   "outputs": [],
   "source": [
    "def rotmat( eulerAngles ):\n",
    "    \"\"\"Rotation matrix with three Euler angles as defined in physics, i.e. Goldstein, Fig. 5.7 p 209.\n",
    "    Order is rotate around z, then x, then z (new z) with angles phi, theta, and psi, resp.\n",
    "    Assumes 3D.  Returns matrix.\n",
    "    \"\"\"\n",
    "    (phi, th, psi) = eulerAngles\n",
    "    cc = np.cos(phi)\n",
    "    ss = np.sin(phi)\n",
    "    mat1 = np.array( [ [cc, -ss, 0],\n",
    "                        [ss, cc, 0],\n",
    "                         [0, 0, 1] ] )\n",
    "    cc = np.cos(th)\n",
    "    ss = np.sin(th)\n",
    "    mat2 = np.array( [])\n",
    "    cc = np.cos(ph)\n",
    "    ss = np.sin(phi)\n",
    "    "
   ]
  },
  {
   "cell_type": "code",
   "execution_count": 3,
   "metadata": {},
   "outputs": [],
   "source": [
    "# Class for the Local Lorentz Frame, especially translating S' coords to S (lab) ones.\n",
    "class LLF():\n",
    "    \"\"\"Gives some methods and data for a local observer, a Local Lorentz Frame,\n",
    "    with a position and velocity in the original 'lab' frame.  \n",
    "    For now, velocity is in the x-direction and y and z are perpendiculat to the motion.\n",
    "    \"\"\"\n",
    "    def __init__(self, beta, ndim):\n",
    "        #self.pos = np.array(pos)\n",
    "        self.beta = np.array(beta)\n",
    "        self.ndim = ndim\n",
    "\n",
    "        # Check dimensions are same.\n",
    "        #self.checkDim()\n",
    "        self.gamma = self.mygamma()\n",
    "        # Calculate the t-x part of the matrix, mult (t,x)^T to get (t', x')^T .\n",
    "        self.mat_tx, self.inv_mat_tx = self.txmatrix()\n",
    "        #\n",
    "        self.mat_all, self.inv_mat_all = self.allmatrix()\n",
    "            \n",
    "#     def getpos(self):\n",
    "#         return( self.pos )\n",
    "#     def setpos(self, pos):\n",
    "#         self.pos = pos\n",
    "    def getbeta(self):\n",
    "        return( self.beta )\n",
    "    def setbeta(self, beta): # Recalculate all the matrices.\n",
    "        self.beta = beta\n",
    "        self.gamma = self.mygamma()\n",
    "        self.mat_tx, self.inv_mat_tx = self.txmatrix()\n",
    "        self.mat_all, self.inv_mat_all = self.allmatrix()\n",
    "        return(True)\n",
    "    def getndim(self):\n",
    "        return( self.ndim )\n",
    "    def setndim(self, ndim):\n",
    "        if ndim<=0:\n",
    "            print('***Error, setndim: ndim is 0 or negative, {}, using 2'.format(ndim) )\n",
    "            self.ndim = 2\n",
    "            return(self.ndim)\n",
    "        self.ndim = ndim\n",
    "        return( True )\n",
    "    \n",
    "    def getmat_tx(self):\n",
    "        return(self.mat_tx)\n",
    "\n",
    "    def getmat_all(self):\n",
    "        return(self.mat_all)\n",
    "    \n",
    "    def getinv_mat_tx(self):\n",
    "        return(self.inv_mat_tx)\n",
    "    \n",
    "    def getinv_mat_all(self):\n",
    "        return(self.inv_mat_all)\n",
    "    \n",
    "    \n",
    "    def checkDim(self, pos):\n",
    "        # Check dimensions are same.\n",
    "        if len(pos) != self.ndim:\n",
    "            print('***ERROR in class LLF, position has dims {} and ndim is {}'.format(len(pos), self.ndim ) )\n",
    "            return(False)\n",
    "        return(True)\n",
    "            \n",
    "    def mygamma(self):\n",
    "        return( np.sqrt(1/(1-self.beta*self.beta) ) )\n",
    "    \n",
    "            \n",
    "    def txmatrix(self):\n",
    "        \"\"\"Calculate just the t-x part of the matrix.  Recall that transverse dimensions are not changed.\n",
    "        \"\"\"\n",
    "        if self.beta == 0:\n",
    "            amat = np.identity(2)\n",
    "            self.mat_tx = amat\n",
    "            return(amat)\n",
    "        \n",
    "        gg = self.gamma\n",
    "        bb = self.beta\n",
    "        amat = np.array( [ [gg, -gg*bb], [-gg*bb, gg] ] )\n",
    "        amatinv = np.linalg.inv(amat)\n",
    "        return( (amat, amatinv) )\n",
    "    \n",
    "    def allmatrix(self):\n",
    "        \"\"\"Calculate the full t, x, y, z, ... matrix.\n",
    "        \"\"\"\n",
    "        txmat = self.mat_tx\n",
    "        # Other components are 1's along the diagonal.\n",
    "        amat = np.identity(self.ndim)\n",
    "        amat[0,0] = txmat[0,0]\n",
    "        amat[0,1] = txmat[0,1]\n",
    "        amat[1,0] = txmat[1,0]\n",
    "        amat[1,1] = txmat[1,1]\n",
    "        \n",
    "        amatinv = np.linalg.inv(amat)\n",
    "        return( (amat, amatinv) )\n",
    "    \n",
    "    def transTXY(self, pos):\n",
    "        \"\"\"Transform the S point [t, x, y]^T into the \"moving\" frame S'.\n",
    "        \"\"\"\n",
    "        if not self.checkDim(pos):\n",
    "            return( np.zeros(self.ndim) )\n",
    "        ###print('{}\\n{}'.format( self.mat_all, pos ) )\n",
    "        return( np.dot( self.mat_all, pos) )\n",
    "    \n",
    "    def transTPXPYP(self, posprime):\n",
    "        \"\"\"Transform from S' point [t', x', y']^T into the \"lab\" frame S.\n",
    "        Use the inverse matrix / transform.\"\"\"\n",
    "        if not self.checkDim(posprime):\n",
    "            return( np.zeros(self.ndim) )\n",
    "        return( np.dot( self.inv_mat_all, posprime) )\n",
    "    \n",
    "    def transTXYmany(self, arr):\n",
    "        \"\"\"Takes arr, a \"vector\" of points (t, x, y) and transforms them to (t', x', y').\n",
    "        \"\"\"\n",
    "        aa = []\n",
    "        for apos in arr:\n",
    "            aa.append( self.transTXY(apos) )\n",
    "        return( np.array(aa) )\n",
    "        \n",
    "    def transTPXPYPmany(self, arr):\n",
    "        \"\"\"Takes arr, a \"vector\" of points (t', x', y') and transforms them to (t, x, y).\n",
    "        \"\"\"\n",
    "        aa = []\n",
    "        for apos in arr:\n",
    "            aa.append( self.transTPXPYP(apos) )\n",
    "        return( np.array(aa) )\n",
    "        \n",
    "        "
   ]
  },
  {
   "cell_type": "code",
   "execution_count": 4,
   "metadata": {},
   "outputs": [],
   "source": [
    "testLLF = LLF(0.7, 2)"
   ]
  },
  {
   "cell_type": "code",
   "execution_count": 5,
   "metadata": {},
   "outputs": [
    {
     "data": {
      "text/plain": [
       "array(0.7)"
      ]
     },
     "execution_count": 5,
     "metadata": {},
     "output_type": "execute_result"
    }
   ],
   "source": [
    "testLLF.getbeta()"
   ]
  },
  {
   "cell_type": "code",
   "execution_count": 6,
   "metadata": {},
   "outputs": [],
   "source": [
    "aa = testLLF.getmat_all()"
   ]
  },
  {
   "cell_type": "code",
   "execution_count": 7,
   "metadata": {},
   "outputs": [],
   "source": [
    "bb = testLLF.getinv_mat_all()"
   ]
  },
  {
   "cell_type": "code",
   "execution_count": 8,
   "metadata": {},
   "outputs": [
    {
     "data": {
      "text/plain": [
       "array([[1.00000000e+00, 3.23663960e-17],\n",
       "       [2.98185316e-17, 1.00000000e+00]])"
      ]
     },
     "execution_count": 8,
     "metadata": {},
     "output_type": "execute_result"
    }
   ],
   "source": [
    "np.dot(aa,bb)"
   ]
  },
  {
   "cell_type": "code",
   "execution_count": 9,
   "metadata": {},
   "outputs": [
    {
     "name": "stdout",
     "output_type": "stream",
     "text": [
      "[[ 1.40028008 -0.98019606]\n",
      " [-0.98019606  1.40028008]]\n"
     ]
    }
   ],
   "source": [
    "aa=testLLF.getmat_all()\n",
    "print(aa)"
   ]
  },
  {
   "cell_type": "code",
   "execution_count": 10,
   "metadata": {},
   "outputs": [
    {
     "data": {
      "text/plain": [
       "array([[1.40028008, 0.98019606],\n",
       "       [0.98019606, 1.40028008]])"
      ]
     },
     "execution_count": 10,
     "metadata": {},
     "output_type": "execute_result"
    }
   ],
   "source": [
    "testLLF.getinv_mat_all()"
   ]
  },
  {
   "cell_type": "code",
   "execution_count": 11,
   "metadata": {},
   "outputs": [
    {
     "data": {
      "text/plain": [
       "array([-0.56011203,  1.82036411])"
      ]
     },
     "execution_count": 11,
     "metadata": {},
     "output_type": "execute_result"
    }
   ],
   "source": [
    "testLLF.transTXY( np.array([1.,2]) )"
   ]
  },
  {
   "cell_type": "code",
   "execution_count": 12,
   "metadata": {},
   "outputs": [
    {
     "data": {
      "text/plain": [
       "array([[ 1.40028008, -0.98019606],\n",
       "       [-2.94058818,  4.20084025]])"
      ]
     },
     "execution_count": 12,
     "metadata": {},
     "output_type": "execute_result"
    }
   ],
   "source": [
    "testLLF.transTXYmany(np.array([[1,0],[0,3] ] ) )"
   ]
  },
  {
   "cell_type": "markdown",
   "metadata": {},
   "source": [
    "## Create hole in the S' restframe"
   ]
  },
  {
   "cell_type": "code",
   "execution_count": 13,
   "metadata": {},
   "outputs": [
    {
     "data": {
      "image/png": "[encoded data removed]",
      "text/plain": [
       "<Figure size 432x288 with 1 Axes>"
      ]
     },
     "metadata": {},
     "output_type": "display_data"
    }
   ],
   "source": [
    "# Make it 1 deep and +/- 1/4 for y.  All in the x-y plane and time is t' = 0.0 say.\n",
    "xdeep = 1.0\n",
    "ywidth = 0.25\n",
    "ysize = 2 # +/- the units in extent\n",
    "# Append t later.\n",
    "myHole = np.array([ [0.0, ysize], [0.0, ywidth], [-xdeep, ywidth], [-xdeep, -ywidth], [0.0, -ywidth], \n",
    "                   [.0, -ysize]  ])\n",
    "\n",
    "xx = myHole.transpose()[0]\n",
    "yy = myHole.transpose()[1]\n",
    "\n",
    "plt.plot( xx, yy, 'ko', label='dots')\n",
    "plt.plot( xx, yy, 'b-', label='lines', lw=4)\n",
    "plt.title('Check the shape.')\n",
    "plt.grid(True)\n",
    "plt.show()"
   ]
  },
  {
   "cell_type": "markdown",
   "metadata": {},
   "source": [
    "## Combine with time for 3-vector."
   ]
  },
  {
   "cell_type": "code",
   "execution_count": 14,
   "metadata": {},
   "outputs": [],
   "source": [
    "def prependTime(mypoints, tvalue):\n",
    "    \"\"\"Give a single time value, and it prepends that value to the x, y points as a numpy array.\n",
    "    \"\"\"\n",
    "    xx = mypoints.transpose()[0]\n",
    "    yy = mypoints.transpose()[1]\n",
    "    tt = np.full(xx.shape, tvalue)  # Should create a numpy vector/array of the right size and shape.\n",
    "    \n",
    "    final= np.array([tt, xx, yy]).transpose()\n",
    "    return(final)"
   ]
  },
  {
   "cell_type": "code",
   "execution_count": 15,
   "metadata": {},
   "outputs": [],
   "source": [
    "myholeStart = prependTime(myHole, 0.0)"
   ]
  },
  {
   "cell_type": "code",
   "execution_count": 16,
   "metadata": {},
   "outputs": [
    {
     "data": {
      "text/plain": [
       "array([[ 0.  ,  0.  ,  2.  ],\n",
       "       [ 0.  ,  0.  ,  0.25],\n",
       "       [ 0.  , -1.  ,  0.25],\n",
       "       [ 0.  , -1.  , -0.25],\n",
       "       [ 0.  ,  0.  , -0.25],\n",
       "       [ 0.  ,  0.  , -2.  ]])"
      ]
     },
     "execution_count": 16,
     "metadata": {},
     "output_type": "execute_result"
    }
   ],
   "source": [
    "myholeStart  # This is in (t', x', y') space."
   ]
  },
  {
   "cell_type": "code",
   "execution_count": 17,
   "metadata": {},
   "outputs": [],
   "source": [
    "# Find those points in (t, x, y ) space and then pick the points that are \"simulataneous\" in t.\n",
    "myLLF = LLF(0.9, 3)\n",
    "numTimes = 1001\n",
    "aa = []\n",
    "tprime = np.linspace(0.0, 12.0, numTimes, endpoint=True) # Clock is \"slower\" in S'... \n",
    "for tt in tprime:\n",
    "    aa.append( prependTime( myHole, tt) )  # myHole is [[x',y']...] points.\n",
    "    \n",
    "myHoleTp = np.array( aa )\n",
    "      "
   ]
  },
  {
   "cell_type": "markdown",
   "metadata": {},
   "source": [
    "print('{}\\n{}'.format(myHoleTp.shape, myHoleTp[0:2]) )"
   ]
  },
  {
   "cell_type": "code",
   "execution_count": 18,
   "metadata": {},
   "outputs": [],
   "source": [
    "aa = []\n",
    "icnt = 0\n",
    "for ahole in myHoleTp:\n",
    "    #print(icnt, '\\t', ahole)\n",
    "    bb = myLLF.transTPXPYPmany( ahole )\n",
    "    #print(icnt, '\\t', bb)\n",
    "    aa.append( bb )\n",
    "    icnt += 1\n",
    "myHoleT = np.array( aa )"
   ]
  },
  {
   "cell_type": "code",
   "execution_count": 19,
   "metadata": {},
   "outputs": [
    {
     "name": "stdout",
     "output_type": "stream",
     "text": [
      "(1001, 6, 3)\n",
      "[[[ 0.          0.          2.        ]\n",
      "  [ 0.          0.          0.25      ]\n",
      "  [-2.0647416  -2.29415734  0.25      ]\n",
      "  [-2.0647416  -2.29415734 -0.25      ]\n",
      "  [ 0.          0.         -0.25      ]\n",
      "  [ 0.          0.         -2.        ]]\n",
      "\n",
      " [[ 0.02752989  0.0247769   2.        ]\n",
      "  [ 0.02752989  0.0247769   0.25      ]\n",
      "  [-2.03721172 -2.26938044  0.25      ]\n",
      "  [-2.03721172 -2.26938044 -0.25      ]\n",
      "  [ 0.02752989  0.0247769  -0.25      ]\n",
      "  [ 0.02752989  0.0247769  -2.        ]]]\n"
     ]
    }
   ],
   "source": [
    "print('{}\\n{}'.format(myHoleT.shape, myHoleT[0:2]) )"
   ]
  },
  {
   "cell_type": "code",
   "execution_count": 20,
   "metadata": {},
   "outputs": [
    {
     "data": {
      "text/plain": [
       "array([[ 2.29415734, -2.0647416 ,  0.        ],\n",
       "       [-2.0647416 ,  2.29415734,  0.        ],\n",
       "       [ 0.        ,  0.        ,  1.        ]])"
      ]
     },
     "execution_count": 20,
     "metadata": {},
     "output_type": "execute_result"
    }
   ],
   "source": [
    "myLLF.getmat_all()"
   ]
  },
  {
   "cell_type": "markdown",
   "metadata": {},
   "source": [
    "## Create a panda with all the points in order, with some count for simultaneous in S' our starting shape"
   ]
  },
  {
   "cell_type": "code",
   "execution_count": 21,
   "metadata": {},
   "outputs": [],
   "source": [
    "# Columns are id, t', x', y', t, x, y\n",
    "# For clarity create a big numpy that is the above rows.\n",
    "columns = ['tstamp', 'pt', 'tp', 'xp', 'yp', 't', 'x', 'y']\n",
    "bigarr = np.zeros( shape=( len(myHoleTp)*len(myHoleTp[0]), len(columns) ) ) # , dtype=np.float\n",
    "\n",
    "for ii in range(len(myHoleTp)):   # This runs over the simult times in S', a collection of points for the shape.\n",
    "    alen = len(myHoleTp[ii])\n",
    "    for jj in range( alen ):   # Run over each point in the shape.\n",
    "        aa = myHoleTp[ii][jj]\n",
    "        bb = myHoleT[ii][jj]\n",
    "#         if ii < 10:\n",
    "#             print('ii {}\\t jj {}'.format(ii,jj))\n",
    "        bigarr[ii*alen+jj] = np.array( [ii, jj, aa[0], aa[1], aa[2], bb[0], bb[1], bb[2] ] )\n",
    "    \n",
    "mypoints = pd.DataFrame( bigarr, columns = columns)"
   ]
  },
  {
   "cell_type": "code",
   "execution_count": 22,
   "metadata": {},
   "outputs": [
    {
     "data": {
      "text/html": [
       "<div>\n",
       "<style scoped>\n",
       "    .dataframe tbody tr th:only-of-type {\n",
       "        vertical-align: middle;\n",
       "    }\n",
       "\n",
       "    .dataframe tbody tr th {\n",
       "        vertical-align: top;\n",
       "    }\n",
       "\n",
       "    .dataframe thead th {\n",
       "        text-align: right;\n",
       "    }\n",
       "</style>\n",
       "<table border=\"1\" class=\"dataframe\">\n",
       "  <thead>\n",
       "    <tr style=\"text-align: right;\">\n",
       "      <th></th>\n",
       "      <th>tstamp</th>\n",
       "      <th>pt</th>\n",
       "      <th>tp</th>\n",
       "      <th>xp</th>\n",
       "      <th>yp</th>\n",
       "      <th>t</th>\n",
       "      <th>x</th>\n",
       "      <th>y</th>\n",
       "    </tr>\n",
       "  </thead>\n",
       "  <tbody>\n",
       "    <tr>\n",
       "      <th>0</th>\n",
       "      <td>0.0</td>\n",
       "      <td>0.0</td>\n",
       "      <td>0.000</td>\n",
       "      <td>0.0</td>\n",
       "      <td>2.00</td>\n",
       "      <td>0.000000</td>\n",
       "      <td>0.000000</td>\n",
       "      <td>2.00</td>\n",
       "    </tr>\n",
       "    <tr>\n",
       "      <th>1</th>\n",
       "      <td>0.0</td>\n",
       "      <td>1.0</td>\n",
       "      <td>0.000</td>\n",
       "      <td>0.0</td>\n",
       "      <td>0.25</td>\n",
       "      <td>0.000000</td>\n",
       "      <td>0.000000</td>\n",
       "      <td>0.25</td>\n",
       "    </tr>\n",
       "    <tr>\n",
       "      <th>2</th>\n",
       "      <td>0.0</td>\n",
       "      <td>2.0</td>\n",
       "      <td>0.000</td>\n",
       "      <td>-1.0</td>\n",
       "      <td>0.25</td>\n",
       "      <td>-2.064742</td>\n",
       "      <td>-2.294157</td>\n",
       "      <td>0.25</td>\n",
       "    </tr>\n",
       "    <tr>\n",
       "      <th>3</th>\n",
       "      <td>0.0</td>\n",
       "      <td>3.0</td>\n",
       "      <td>0.000</td>\n",
       "      <td>-1.0</td>\n",
       "      <td>-0.25</td>\n",
       "      <td>-2.064742</td>\n",
       "      <td>-2.294157</td>\n",
       "      <td>-0.25</td>\n",
       "    </tr>\n",
       "    <tr>\n",
       "      <th>4</th>\n",
       "      <td>0.0</td>\n",
       "      <td>4.0</td>\n",
       "      <td>0.000</td>\n",
       "      <td>0.0</td>\n",
       "      <td>-0.25</td>\n",
       "      <td>0.000000</td>\n",
       "      <td>0.000000</td>\n",
       "      <td>-0.25</td>\n",
       "    </tr>\n",
       "    <tr>\n",
       "      <th>5</th>\n",
       "      <td>0.0</td>\n",
       "      <td>5.0</td>\n",
       "      <td>0.000</td>\n",
       "      <td>0.0</td>\n",
       "      <td>-2.00</td>\n",
       "      <td>0.000000</td>\n",
       "      <td>0.000000</td>\n",
       "      <td>-2.00</td>\n",
       "    </tr>\n",
       "    <tr>\n",
       "      <th>6</th>\n",
       "      <td>1.0</td>\n",
       "      <td>0.0</td>\n",
       "      <td>0.012</td>\n",
       "      <td>0.0</td>\n",
       "      <td>2.00</td>\n",
       "      <td>0.027530</td>\n",
       "      <td>0.024777</td>\n",
       "      <td>2.00</td>\n",
       "    </tr>\n",
       "    <tr>\n",
       "      <th>7</th>\n",
       "      <td>1.0</td>\n",
       "      <td>1.0</td>\n",
       "      <td>0.012</td>\n",
       "      <td>0.0</td>\n",
       "      <td>0.25</td>\n",
       "      <td>0.027530</td>\n",
       "      <td>0.024777</td>\n",
       "      <td>0.25</td>\n",
       "    </tr>\n",
       "    <tr>\n",
       "      <th>8</th>\n",
       "      <td>1.0</td>\n",
       "      <td>2.0</td>\n",
       "      <td>0.012</td>\n",
       "      <td>-1.0</td>\n",
       "      <td>0.25</td>\n",
       "      <td>-2.037212</td>\n",
       "      <td>-2.269380</td>\n",
       "      <td>0.25</td>\n",
       "    </tr>\n",
       "    <tr>\n",
       "      <th>9</th>\n",
       "      <td>1.0</td>\n",
       "      <td>3.0</td>\n",
       "      <td>0.012</td>\n",
       "      <td>-1.0</td>\n",
       "      <td>-0.25</td>\n",
       "      <td>-2.037212</td>\n",
       "      <td>-2.269380</td>\n",
       "      <td>-0.25</td>\n",
       "    </tr>\n",
       "  </tbody>\n",
       "</table>\n",
       "</div>"
      ],
      "text/plain": [
       "   tstamp   pt     tp   xp    yp         t         x     y\n",
       "0     0.0  0.0  0.000  0.0  2.00  0.000000  0.000000  2.00\n",
       "1     0.0  1.0  0.000  0.0  0.25  0.000000  0.000000  0.25\n",
       "2     0.0  2.0  0.000 -1.0  0.25 -2.064742 -2.294157  0.25\n",
       "3     0.0  3.0  0.000 -1.0 -0.25 -2.064742 -2.294157 -0.25\n",
       "4     0.0  4.0  0.000  0.0 -0.25  0.000000  0.000000 -0.25\n",
       "5     0.0  5.0  0.000  0.0 -2.00  0.000000  0.000000 -2.00\n",
       "6     1.0  0.0  0.012  0.0  2.00  0.027530  0.024777  2.00\n",
       "7     1.0  1.0  0.012  0.0  0.25  0.027530  0.024777  0.25\n",
       "8     1.0  2.0  0.012 -1.0  0.25 -2.037212 -2.269380  0.25\n",
       "9     1.0  3.0  0.012 -1.0 -0.25 -2.037212 -2.269380 -0.25"
      ]
     },
     "execution_count": 22,
     "metadata": {},
     "output_type": "execute_result"
    }
   ],
   "source": [
    "mypoints.head(10)\n",
    "#len(mypoints)"
   ]
  },
  {
   "cell_type": "markdown",
   "metadata": {},
   "source": [
    "## Now sort by t, looking for simultaneous points there which will come from different tp values."
   ]
  },
  {
   "cell_type": "code",
   "execution_count": 23,
   "metadata": {},
   "outputs": [],
   "source": [
    "#mypoints.sort_values(by=['t'])  # 101 time tp points not good enough!!  Try 1001 and then new strategy."
   ]
  },
  {
   "cell_type": "markdown",
   "metadata": {},
   "source": [
    "## Try drawing lines in tp, x, y, space for each \"node\" and then find the intersection in the t = constant plane\n",
    "The lines are straight forward in the S', just vertical as t' marches forward.  Let our class calculate a slope and intersection for each of the \"nodes\" in our shape??<br>\n",
    "For the Lorentz transformation<br>\n",
    "$$ {\\bf x}' = L\\cdot {\\bf x}$$\n",
    "Consider that the shapes, or the nodes of the shape make lines in $(t', x', y')$ and in fact are vertical with $(x', y')$ unchanging.  So consider the $S'$ lines to be\n",
    "$$ {\\bf x}'(u) = {\\bf x}'_0 + {\\bf m}' u$$\n",
    "and we treat $u$ as a stand in for $t'$, so that ${\\bf m}' = (1,0,0)$, say.  Then transform the lines in $S'$ into $S$ (the \"lab\" frame).<br>\n",
    "$$ {\\bf x}(u) = L^{-1}\\cdot {\\bf x}'_0 + L^{-1}\\cdot {\\bf m}'\\; u$$\n",
    "And we find slices in $t$ by finding $u$ from <br>\n",
    "$$ u = \\big( t - L^{-1}\\cdot {\\bf x}'_0 \\big)/( L^{-1}\\cdot {\\bf m}' )_t$$\n",
    "And we can select out a set of $t$'s that match up with the other part of the problem, the rivet.\n",
    "\n"
   ]
  },
  {
   "cell_type": "code",
   "execution_count": 24,
   "metadata": {},
   "outputs": [],
   "source": [
    "# Try out a \"shape\" class that inherits(??) a Lorentz transformation, a Lorentz frame from above.\n",
    "class LorShape(LLF):\n",
    "    \"\"\"Assuming a shape in the x'-y' plane of S' that is fixed and just moving vertically in S'\n",
    "    \"\"\"\n",
    "    def __init__(self, beta, ndim, xp0, mp):\n",
    "        \"\"\"beta is the speed, ndim is number of dimensions to work in, usually 2 or 3,\n",
    "        xp0 is the numpy array of [t', x', y', ...] at start, u=0, and mp is the slope of these\n",
    "        lines in the S' frame, typicall [1, 0, 0)], as the shape at rest in S' just moves vertically.\n",
    "        numpoints is the number of points in the shape.  These will be treated like lines in S' and S.\n",
    "        \"\"\"\n",
    "        LLF.__init__(self, beta, ndim)  # Initialize the Local Lorentz frame variables and methods.\n",
    "        self.ndim = ndim\n",
    "        self.xp0 = xp0\n",
    "        self.mp = mp\n",
    "        self.numpoints = len(xp0)\n",
    "        \n",
    "        self.checkSize()\n",
    "        \n",
    "        self.x0 = self.calcX0()\n",
    "        self.m = self.calcM()\n",
    "        \n",
    "    def checkSize(self):\n",
    "        if len(self.xp0) != len(self.mp):\n",
    "            print('***Error, LorShape, checkSize: xp0 and mp different sizes, {}, {}, resp.'.\n",
    "                  format(len(self.xp0), len(self.mp) ) )\n",
    "            return(False)\n",
    "        if len(self.xp0[0]) != self.ndim:\n",
    "            print('***Error, LorShape, checkSize: len(xp0[0]) and ndim different, {}, {}, resp.'.\n",
    "                  format(len(self.xp0[0]), self.ndim) )\n",
    "            return(False)\n",
    "        return(True)\n",
    "    \n",
    "    def calcX0(self):\n",
    "        return( self.transTPXPYPmany(self.xp0) )\n",
    "    \n",
    "    def calcM(self):\n",
    "        return( self.transTPXPYPmany(self.mp) )\n",
    "        \n",
    "    def ufromt(self, ptindex, tt):\n",
    "        \"\"\"Given a point index on the set of shape points, ptindex, calculate the u value for \n",
    "        the given t (in S) value.  Returns u or 0.0 if there is a divide by 0 problem.\"\"\"\n",
    "        xx0 = self.x0[ptindex]\n",
    "        mm = self.m[ptindex]\n",
    "        if mm[0] != 0:\n",
    "            uu = (tt - xx0[0])/mm[0]\n",
    "            return(uu)\n",
    "        else:\n",
    "            print('***Error, LorShape, ufromt: mm[0] is zero! Divide by zero.')\n",
    "            print('***                       : (t-x0[0] is {}, m[0] is {})'.format((tt-xx0[0]), mm[0]) )\n",
    "            return(0.0)\n",
    "        \n",
    "    def ufromtp(self, ptindex, ttp):\n",
    "        \"\"\"Given a point index on the set of shape points, ptindex, calculate the u value for \n",
    "        the given t (in S) value.  Returns u or 0.0 if there is a divide by 0 problem.\"\"\"\n",
    "        xxp0 = self.xp0[ptindex]\n",
    "        mmp = self.mp[ptindex]\n",
    "        if mmp[0] != 0:\n",
    "            uu = (ttp - xxp0[0])/mmp[0]\n",
    "            return(uu)\n",
    "        else:\n",
    "            print('***Error, LorShape, ufromt: mm[0] is zero! Divide by zero.')\n",
    "            print('***                       : (t-x0[0] is {}, m[0] is {})'.format((tt-xx0[0]), mm[0]) )\n",
    "            return(0.0)\n",
    "        \n",
    "    def shapeXAtT(self, tt):\n",
    "        \"\"\"Return the shape array in S frame at the given time t (in S).\n",
    "        \"\"\"\n",
    "        # Run over the points.\n",
    "        xnew = np.zeros( (len(self.x0), self.ndim) )\n",
    "        for ptindex, (aa, bb) in enumerate( zip(self.x0, self.m) ):\n",
    "            uu = self.ufromt(ptindex, tt)\n",
    "            xnew[ptindex] = aa + bb*uu\n",
    "        return(xnew)\n",
    "        \n",
    "    def shapeXPAtTP(self, ttp):\n",
    "        \"\"\"Return the shape array in S frame at the given time t (in S).\n",
    "        \"\"\"\n",
    "        # Run over the points.\n",
    "        xpnew = np.zeros( (len(self.xp0), self.ndim) )\n",
    "        for ptindex, (aa, bb) in enumerate( zip(self.xp0, self.mp) ):\n",
    "            uu = self.ufromtp(ptindex, ttp)\n",
    "            xpnew[ptindex] = aa + bb*uu\n",
    "        return(xpnew)\n",
    "       "
   ]
  },
  {
   "cell_type": "code",
   "execution_count": 25,
   "metadata": {},
   "outputs": [
    {
     "data": {
      "text/plain": [
       "array([[ 0.  ,  2.  ],\n",
       "       [ 0.  ,  0.25],\n",
       "       [-1.  ,  0.25],\n",
       "       [-1.  , -0.25],\n",
       "       [ 0.  , -0.25],\n",
       "       [ 0.  , -2.  ]])"
      ]
     },
     "execution_count": 25,
     "metadata": {},
     "output_type": "execute_result"
    }
   ],
   "source": [
    "myHole"
   ]
  },
  {
   "cell_type": "code",
   "execution_count": 26,
   "metadata": {},
   "outputs": [],
   "source": [
    "myHoleStart = prependTime(myHole, 0.0)\n",
    "#myMpStart = np.zeros( (len(myHoleStart), len(myHoleStart[0]) ) )\n",
    "myMpStart = np.array( [ np.array([1.0, 0, 0]) for uu in myHoleStart ] )\n",
    "aShape = LorShape( 0.9, 3, myHoleStart, myMpStart )"
   ]
  },
  {
   "cell_type": "code",
   "execution_count": 27,
   "metadata": {},
   "outputs": [
    {
     "data": {
      "text/plain": [
       "2.294157338705618"
      ]
     },
     "execution_count": 27,
     "metadata": {},
     "output_type": "execute_result"
    }
   ],
   "source": [
    "aShape.gamma"
   ]
  },
  {
   "cell_type": "code",
   "execution_count": 28,
   "metadata": {},
   "outputs": [
    {
     "data": {
      "text/plain": [
       "2.294157338705618"
      ]
     },
     "execution_count": 28,
     "metadata": {},
     "output_type": "execute_result"
    }
   ],
   "source": [
    "np.sqrt( 1.0/(1.0-0.9*0.9) )"
   ]
  },
  {
   "cell_type": "code",
   "execution_count": 29,
   "metadata": {},
   "outputs": [],
   "source": [
    "numtps = 11\n",
    "tpSlices = np.linspace(0, 10, numtps, endpoint=True)"
   ]
  },
  {
   "cell_type": "code",
   "execution_count": 30,
   "metadata": {},
   "outputs": [],
   "source": [
    "aa = []\n",
    "for tt in tpSlices: # Check the lines in the S' frame.\n",
    "    aa.append( aShape.shapeXPAtTP(tt) )\n",
    "myHoleP = np.array( aa )"
   ]
  },
  {
   "cell_type": "code",
   "execution_count": 31,
   "metadata": {},
   "outputs": [
    {
     "data": {
      "text/plain": [
       "(array([[ 5.  ,  0.  ,  2.  ],\n",
       "        [ 5.  ,  0.  ,  0.25],\n",
       "        [ 5.  , -1.  ,  0.25],\n",
       "        [ 5.  , -1.  , -0.25],\n",
       "        [ 5.  ,  0.  , -0.25],\n",
       "        [ 5.  ,  0.  , -2.  ]]), 5.0)"
      ]
     },
     "execution_count": 31,
     "metadata": {},
     "output_type": "execute_result"
    }
   ],
   "source": [
    "(myHoleP[5], tpSlices[5])"
   ]
  },
  {
   "cell_type": "code",
   "execution_count": 32,
   "metadata": {},
   "outputs": [
    {
     "data": {
      "text/plain": [
       "array([ 0.,  1.,  2.,  3.,  4.,  5.,  6.,  7.,  8.,  9., 10.])"
      ]
     },
     "execution_count": 32,
     "metadata": {},
     "output_type": "execute_result"
    }
   ],
   "source": [
    "tpSlices"
   ]
  },
  {
   "cell_type": "code",
   "execution_count": 33,
   "metadata": {},
   "outputs": [
    {
     "data": {
      "text/plain": [
       "array([[1., 0., 0.],\n",
       "       [1., 0., 0.],\n",
       "       [1., 0., 0.],\n",
       "       [1., 0., 0.],\n",
       "       [1., 0., 0.],\n",
       "       [1., 0., 0.]])"
      ]
     },
     "execution_count": 33,
     "metadata": {},
     "output_type": "execute_result"
    }
   ],
   "source": [
    "aShape.mp"
   ]
  },
  {
   "cell_type": "code",
   "execution_count": 34,
   "metadata": {},
   "outputs": [
    {
     "data": {
      "text/plain": [
       "array([[ 0.  ,  0.  ,  2.  ],\n",
       "       [ 0.  ,  0.  ,  0.25],\n",
       "       [ 0.  , -1.  ,  0.25],\n",
       "       [ 0.  , -1.  , -0.25],\n",
       "       [ 0.  ,  0.  , -0.25],\n",
       "       [ 0.  ,  0.  , -2.  ]])"
      ]
     },
     "execution_count": 34,
     "metadata": {},
     "output_type": "execute_result"
    }
   ],
   "source": [
    "aShape.xp0"
   ]
  },
  {
   "cell_type": "code",
   "execution_count": 35,
   "metadata": {},
   "outputs": [],
   "source": [
    "aa = []\n",
    "for tt in tpSlices: # Check the lines in the S' frame.\n",
    "    aa.append( aShape.shapeXAtT(tt) )\n",
    "myHoleT = np.array( aa )"
   ]
  },
  {
   "cell_type": "code",
   "execution_count": 36,
   "metadata": {},
   "outputs": [
    {
     "data": {
      "text/plain": [
       "array([[ 4.        ,  3.6       ,  2.        ],\n",
       "       [ 4.        ,  3.6       ,  0.25      ],\n",
       "       [ 4.        ,  3.16411011,  0.25      ],\n",
       "       [ 4.        ,  3.16411011, -0.25      ],\n",
       "       [ 4.        ,  3.6       , -0.25      ],\n",
       "       [ 4.        ,  3.6       , -2.        ]])"
      ]
     },
     "execution_count": 36,
     "metadata": {},
     "output_type": "execute_result"
    }
   ],
   "source": [
    "myHoleT[4]"
   ]
  },
  {
   "cell_type": "code",
   "execution_count": 42,
   "metadata": {},
   "outputs": [
    {
     "data": {
      "image/png": "[encoded data removed]",
      "text/plain": [
       "<Figure size 432x288 with 1 Axes>"
      ]
     },
     "metadata": {},
     "output_type": "display_data"
    }
   ],
   "source": [
    "xx = myHoleT[4].transpose()[1]\n",
    "yy = myHoleT[4].transpose()[2]\n",
    "\n",
    "plt.plot( xx, yy, 'ko', label='dots')\n",
    "plt.plot( xx, yy, 'b-', label='lines', lw=4)\n",
    "plt.title('Check the shape in S-frame at t={}.'.format(myHoleT[4][0][0]) )\n",
    "plt.grid(True)\n",
    "plt.show()\n",
    "#\n",
    "#  Depth is 3.6-3.164 = \n",
    "#"
   ]
  },
  {
   "cell_type": "code",
   "execution_count": 38,
   "metadata": {},
   "outputs": [
    {
     "name": "stdout",
     "output_type": "stream",
     "text": [
      "depth is 0.43599999999999994\n"
     ]
    }
   ],
   "source": [
    "# Depth of above\n",
    "aa = 3.6-3.164\n",
    "print('depth is {}'.format(aa) )"
   ]
  },
  {
   "cell_type": "code",
   "execution_count": 39,
   "metadata": {},
   "outputs": [
    {
     "data": {
      "text/plain": [
       "(2.294157338705618, 0.4358898943540673)"
      ]
     },
     "execution_count": 39,
     "metadata": {},
     "output_type": "execute_result"
    }
   ],
   "source": [
    "( aShape.gamma, 1.0/aShape.gamma )"
   ]
  },
  {
   "cell_type": "code",
   "execution_count": 40,
   "metadata": {},
   "outputs": [],
   "source": [
    "# Pick a line in the RGB space, that takes a w from 0 to 1.\n",
    "def contRGB(ww):\n",
    "    \"\"\"Give ww from 0 to 1 for the span of colors (0,0,0) to (255, 255, 255) .\n",
    "    \"\"\"\n",
    "    tdir = np.array([0.2, 0.3, 0.5])\n",
    "    tdir = tdir/ np.sqrt( np.dot(tdir, tdir) )  # Normalize the direction vector.\n",
    "    dist = np.sqrt( 256*256*3 )\n",
    "    rgbVec = np.array([0,0,0])*(1-ww) + tdir*ww*dist"
   ]
  },
  {
   "cell_type": "code",
   "execution_count": 53,
   "metadata": {},
   "outputs": [
    {
     "data": {
      "image/png": "[encoded data removed]",
      "text/plain": [
       "<Figure size 720x576 with 1 Axes>"
      ]
     },
     "metadata": {},
     "output_type": "display_data"
    }
   ],
   "source": [
    "import matplotlib.colors as mcols\n",
    "# Plot all the time slices, play with colors and opacity.\n",
    "#cm = mcols.hsv_to_rgb( len(tpSlices) )\n",
    "alphas = np.linspace(0.1, 0.8, len(tpSlices) )\n",
    "#alphas = np.logspace(np.log(0.1), np.log(1.0), len(tpSlices) )\n",
    "\n",
    "fig, ax = plt.subplots( figsize = (10,8) )\n",
    "\n",
    "for alf, aHole in zip(alphas, myHoleT):\n",
    "    xx = aHole.transpose()[1]\n",
    "    yy = aHole.transpose()[2]\n",
    "    ax.plot( xx, yy, 'ko', label='dots')\n",
    "    ax.plot( xx, yy, 'k-', label='lines', lw=4, alpha=alf)\n",
    "plt.title('Check the shape in S-frame, from t={} to t={}.'.format(myHoleT[0][0][0],myHoleT[-1][0][0]) )\n",
    "plt.xlabel('x')\n",
    "plt.ylabel('y')\n",
    "plt.grid(True)\n",
    "\n",
    "if 1: plt.savefig('MovingHole.png')\n",
    "plt.show()"
   ]
  },
  {
   "cell_type": "markdown",
   "metadata": {},
   "source": [
    "## A little quicker to the calculation (no pandas) and new Hole as a closed region."
   ]
  },
  {
   "cell_type": "code",
   "execution_count": 84,
   "metadata": {},
   "outputs": [
    {
     "data": {
      "image/png": "[encoded data removed]",
      "text/plain": [
       "<Figure size 720x576 with 1 Axes>"
      ]
     },
     "metadata": {},
     "output_type": "display_data"
    }
   ],
   "source": [
    "# Draw a closed polygon as a starting shape at t'=0, and will move by m' .\n",
    "#\n",
    "# Make it 1 deep and +/- 1/4 for y.  All in the x-y plane and time is t' = 0.0 say.\n",
    "xdeep = 1.0\n",
    "ywidth = 0.25\n",
    "ysize = 2 # +/- the units in extent\n",
    "xback = 2.0\n",
    "# Append t later.\n",
    "myHoleB = np.array([ [0.0, ysize], [0.0, ywidth], [-xdeep, ywidth], [-xdeep, -ywidth], [0.0, -ywidth], \n",
    "                   [.0, -ysize], [-xback, -ysize], [-xback, ysize], [0.0, ysize]  ])\n",
    "\n",
    "fig, ax = plt.subplots( figsize=(10,8) )\n",
    "\n",
    "xx = myHoleB.transpose()[0]\n",
    "yy = myHoleB.transpose()[1]\n",
    "\n",
    "ax.fill( xx, yy, 'b', alpha=0.2)\n",
    "\n",
    "\n",
    "ax.plot( xx, yy, 'ko', label='dots')\n",
    "ax.plot( xx, yy, 'b-', label='lines', lw=4)\n",
    "plt.title('Check the shape.')\n",
    "plt.grid(True)\n",
    "plt.show()"
   ]
  },
  {
   "cell_type": "code",
   "execution_count": 70,
   "metadata": {},
   "outputs": [],
   "source": [
    "# Set up the Lorentz Shape class.\n",
    "myHoleBStart = prependTime(myHoleB, 0.0)\n",
    "myMpStart = np.array( [ np.array([1.0, 0, 0]) for uu in myHoleBStart ] )\n",
    "\n",
    "bShape = LorShape( 0.8, 3, myHoleBStart, myMpStart )"
   ]
  },
  {
   "cell_type": "code",
   "execution_count": 71,
   "metadata": {},
   "outputs": [
    {
     "data": {
      "text/plain": [
       "(1.666666666666667, 0.5999999999999999, 1.666666666666667)"
      ]
     },
     "execution_count": 71,
     "metadata": {},
     "output_type": "execute_result"
    }
   ],
   "source": [
    "( bShape.gamma, 1/bShape.gamma, np.sqrt(1/(1-0.8*0.8)) )"
   ]
  },
  {
   "cell_type": "code",
   "execution_count": 85,
   "metadata": {},
   "outputs": [],
   "source": [
    "#  Evolve the S' starting hole in the S'-frame.  Boring.\n",
    "#\n",
    "numtps = 11  # t' slices here...\n",
    "tpSlices = np.linspace(0, 10, numtps, endpoint=True)\n",
    "\n",
    "aa = []\n",
    "for tt in tpSlices: # Check the lines in the S' frame.\n",
    "    aa.append( bShape.shapeXPAtTP(tt) )  # Evolve the shape to time tt.\n",
    "myHoleBP = np.array( aa )  # Collection of points for the shapes evolved for times tpSlices."
   ]
  },
  {
   "cell_type": "code",
   "execution_count": 90,
   "metadata": {},
   "outputs": [],
   "source": [
    "#  Evolve the S' starting hole in the S-frame.\n",
    "#\n",
    "numts = 21  # t' slices here...\n",
    "tSlices = np.linspace(0, 14, numtps, endpoint=True)\n",
    "\n",
    "aa = []\n",
    "for tt in tSlices: # Check the lines in the S frame.\n",
    "    aa.append( bShape.shapeXAtT(tt) )\n",
    "myHoleBT = np.array( aa )"
   ]
  },
  {
   "cell_type": "code",
   "execution_count": 91,
   "metadata": {},
   "outputs": [
    {
     "data": {
      "image/png": "[encoded data removed]",
      "text/plain": [
       "<Figure size 720x576 with 1 Axes>"
      ]
     },
     "metadata": {},
     "output_type": "display_data"
    }
   ],
   "source": [
    "fig, ax = plt.subplots( figsize=(10,8) )\n",
    "tind = 3\n",
    "tpick = tSlices[tind]\n",
    "\n",
    "xx = myHoleBT[tind].transpose()[1]\n",
    "yy = myHoleBT[tind].transpose()[2]\n",
    "\n",
    "ax.fill( xx, yy, 'b', alpha=0.2)\n",
    "\n",
    "\n",
    "ax.plot( xx, yy, 'ko', label='dots')\n",
    "ax.plot( xx, yy, 'b-', label='lines', lw=4)\n",
    "plt.title('Check the shape in the S-frame at t = {}.'.format( tpick ))\n",
    "plt.grid(True)\n",
    "plt.show()"
   ]
  },
  {
   "cell_type": "code",
   "execution_count": 92,
   "metadata": {},
   "outputs": [
    {
     "name": "stdout",
     "output_type": "stream",
     "text": [
      "[[ 4.2   3.36  2.  ]\n",
      " [ 4.2   3.36  0.25]\n",
      " [ 4.2   2.76  0.25]\n",
      " [ 4.2   2.76 -0.25]\n",
      " [ 4.2   3.36 -0.25]\n",
      " [ 4.2   3.36 -2.  ]\n",
      " [ 4.2   2.16 -2.  ]\n",
      " [ 4.2   2.16  2.  ]\n",
      " [ 4.2   3.36  2.  ]]\n",
      "\n",
      "[[ 3.    0.    2.  ]\n",
      " [ 3.    0.    0.25]\n",
      " [ 3.   -1.    0.25]\n",
      " [ 3.   -1.   -0.25]\n",
      " [ 3.    0.   -0.25]\n",
      " [ 3.    0.   -2.  ]\n",
      " [ 3.   -2.   -2.  ]\n",
      " [ 3.   -2.    2.  ]\n",
      " [ 3.    0.    2.  ]]\n"
     ]
    }
   ],
   "source": [
    "print('{}\\n\\n{}'.format( myHoleBT[tind], myHoleBP[tind] ) )"
   ]
  },
  {
   "cell_type": "code",
   "execution_count": 93,
   "metadata": {},
   "outputs": [
    {
     "data": {
      "text/plain": [
       "(0.6000000000000001, 0.5999999999999999)"
      ]
     },
     "execution_count": 93,
     "metadata": {},
     "output_type": "execute_result"
    }
   ],
   "source": [
    "# Check the length contraction.\n",
    "( 3.36-2.76, 1.0/bShape.gamma )"
   ]
  },
  {
   "cell_type": "code",
   "execution_count": null,
   "metadata": {},
   "outputs": [],
   "source": []
  }
 ],
 "metadata": {
  "kernelspec": {
   "display_name": "Python 3",
   "language": "python",
   "name": "python3"
  },
  "language_info": {
   "codemirror_mode": {
    "name": "ipython",
    "version": 3
   },
   "file_extension": ".py",
   "mimetype": "text/x-python",
   "name": "python",
   "nbconvert_exporter": "python",
   "pygments_lexer": "ipython3",
   "version": "3.7.2"
  }
 },
 "nbformat": 4,
 "nbformat_minor": 2
}
